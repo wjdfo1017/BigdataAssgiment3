{
 "cells": [
  {
   "cell_type": "code",
   "execution_count": 17,
   "metadata": {},
   "outputs": [
    {
     "name": "stdout",
     "output_type": "stream",
     "text": [
      "('2008/2009', 'Belgium Jupiler League', 1, 'RSC Anderlecht', 48)\n",
      "('2008/2009', 'Belgium Jupiler League', 2, 'Standard de Liège', 42)\n",
      "('2008/2009', 'Belgium Jupiler League', 3, 'Club Brugge KV', 37)\n",
      "('2008/2009', 'Belgium Jupiler League', 4, 'KAA Gent', 36)\n",
      "('2008/2009', 'Belgium Jupiler League', 5, 'Beerschot AC', 32)\n",
      "('2008/2009', 'England Premier League', 1, 'Manchester United', 43)\n",
      "('2008/2009', 'England Premier League', 2, 'Manchester City', 40)\n",
      "('2008/2009', 'England Premier League', 2, 'Liverpool', 41)\n",
      "('2008/2009', 'England Premier League', 3, 'Arsenal', 37)\n",
      "('2008/2009', 'England Premier League', 4, 'Chelsea', 33)\n",
      "('2008/2009', 'England Premier League', 4, 'Chelsea', 35)\n",
      "('2008/2009', 'England Premier League', 4, 'Liverpool', 36)\n",
      "('2008/2009', 'France Ligue 1', 4, 'Olympique de Marseille', 35)\n",
      "('2008/2009', 'France Ligue 1', 4, 'LOSC Lille', 34)\n",
      "('2008/2009', 'France Ligue 1', 4, 'Girondins de Bordeaux', 36)\n",
      "('2008/2009', 'France Ligue 1', 5, 'Olympique Lyonnais', 32)\n",
      "('2008/2009', 'France Ligue 1', 5, 'Olympique de Marseille', 32)\n",
      "('2008/2009', 'Germany 1. Bundesliga', 1, 'SV Werder Bremen', 43)\n",
      "('2008/2009', 'Germany 1. Bundesliga', 1, 'VfL Wolfsburg', 51)\n",
      "('2008/2009', 'Germany 1. Bundesliga', 1, 'FC Bayern Munich', 45)\n",
      "('2008/2009', 'Germany 1. Bundesliga', 4, 'Borussia Dortmund', 34)\n",
      "('2008/2009', 'Germany 1. Bundesliga', 4, 'VfB Stuttgart', 34)\n",
      "('2008/2009', 'Germany 1. Bundesliga', 4, 'TSG 1899 Hoffenheim', 33)\n",
      "('2008/2009', 'Italy Serie A', 2, 'Palermo', 42)\n",
      "('2008/2009', 'Italy Serie A', 2, 'Milan', 39)\n",
      "('2008/2009', 'Italy Serie A', 2, 'Juventus', 38)\n",
      "('2008/2009', 'Italy Serie A', 2, 'Genoa', 39)\n",
      "('2008/2009', 'Italy Serie A', 3, 'Inter', 37)\n",
      "('2008/2009', 'Italy Serie A', 4, 'Udinese', 36)\n",
      "('2008/2009', 'Italy Serie A', 4, 'Roma', 35)\n",
      "('2008/2009', 'Italy Serie A', 4, 'Sampdoria', 33)\n",
      "('2008/2009', 'Italy Serie A', 4, 'Inter', 33)\n",
      "('2008/2009', 'Netherlands Eredivisie', 2, 'Ajax', 41)\n",
      "('2008/2009', 'Netherlands Eredivisie', 2, 'FC Twente', 40)\n",
      "('2008/2009', 'Netherlands Eredivisie', 2, 'PSV', 41)\n",
      "('2008/2009', 'Netherlands Eredivisie', 2, 'SC Heerenveen', 41)\n",
      "('2008/2009', 'Netherlands Eredivisie', 2, 'AZ', 38)\n",
      "('2008/2009', 'Netherlands Eredivisie', 4, 'Feyenoord', 34)\n",
      "('2008/2009', 'Netherlands Eredivisie', 4, 'Ajax', 33)\n",
      "('2008/2009', 'Netherlands Eredivisie', 5, 'FC Groningen', 32)\n",
      "('2008/2009', 'Poland Ekstraklasa', 2, 'Legia Warszawa', 38)\n",
      "('2008/2009', 'Portugal Liga ZON Sagres', 2, 'FC Porto', 38)\n",
      "('2008/2009', 'Scotland Premier League', 1, 'Rangers', 44)\n",
      "('2008/2009', 'Scotland Premier League', 1, 'Celtic', 48)\n",
      "('2008/2009', 'Scotland Premier League', 4, 'Rangers', 33)\n",
      "('2008/2009', 'Scotland Premier League', 5, 'Celtic', 32)\n",
      "('2008/2009', 'Spain LIGA BBVA', 1, 'Real Madrid CF', 49)\n",
      "('2008/2009', 'Spain LIGA BBVA', 1, 'FC Barcelona', 61)\n",
      "('2008/2009', 'Spain LIGA BBVA', 1, 'Atlético Madrid', 47)\n",
      "('2008/2009', 'Spain LIGA BBVA', 1, 'Valencia CF', 47)\n",
      "('2008/2009', 'Spain LIGA BBVA', 1, 'FC Barcelona', 44)\n",
      "('2008/2009', 'Spain LIGA BBVA', 4, 'RCD Mallorca', 33)\n",
      "('2008/2009', 'Spain LIGA BBVA', 4, 'Villarreal CF', 33)\n",
      "('2008/2009', 'Spain LIGA BBVA', 4, 'Real Madrid CF', 34)\n",
      "('2008/2009', 'Spain LIGA BBVA', 4, 'Atlético Madrid', 33)\n",
      "('2008/2009', 'Switzerland Super League', 1, 'BSC Young Boys', 53)\n",
      "('2008/2009', 'Switzerland Super League', 1, 'FC Zürich', 43)\n",
      "('2008/2009', 'Switzerland Super League', 2, 'FC Basel', 39)\n",
      "('2008/2009', 'Switzerland Super League', 3, 'FC Zürich', 37)\n",
      "('2008/2009', 'Switzerland Super League', 4, 'Neuchâtel Xamax', 36)\n",
      "('2008/2009', 'Switzerland Super League', 4, 'FC Basel', 33)\n",
      "('2008/2009', 'Switzerland Super League', 5, 'Grasshopper Club Zürich', 32)\n",
      "('2008/2009', 'Switzerland Super League', 5, 'BSC Young Boys', 32)\n"
     ]
    }
   ],
   "source": [
    "import os\n",
    "import sqlite3\n",
    "con = sqlite3.connect('database.sqlite')\n",
    "cursorObj = con.cursor()\n",
    "cursorObj.execute(\"select season as Season, name as League, (select count(*) from( select season, Team.team_long_name, league_id, League.name, home_team_api_id as team_id, sum(home_team_goal) as goal from Match, League, Team where Match.league_id = League.id and Match.home_team_api_id = Team.team_api_id and season = '2008/2009'  group by League.id, home_team_api_id union all select season, Team.team_long_name, league_id, League.name, away_team_api_id as team_id, sum(away_team_goal) as goal from Match, League, Team where Match.league_id = League.id and Match.away_team_api_id = Team.team_api_id and season = '2008/2009' group by League.id, away_team_api_id) as goal_a where goal_a.goal>=goal.goal group by league_id) as rank ,team_long_name as Team_name, goal as Goals_Scored from (select season, Team.team_long_name, league_id, League.name, home_team_api_id as team_id, sum(home_team_goal) as goal from Match, League, Team where Match.league_id = League.id and Match.home_team_api_id = Team.team_api_id and season = '2008/2009'  group by League.id, home_team_api_id union all select season, Team.team_long_name, league_id, League.name, away_team_api_id as team_id, sum(away_team_goal) as goal from Match, League, Team where Match.league_id = League.id and Match.away_team_api_id = Team.team_api_id and season = '2008/2009' group by League.id, away_team_api_id) as goal where rank<=5 order by league_id,rank;\")\n",
    "rows = cursorObj.fetchall()\n",
    "\n",
    "for row in rows:\n",
    "  print(row)"
   ]
  },
  {
   "cell_type": "code",
   "execution_count": null,
   "metadata": {},
   "outputs": [],
   "source": []
  }
 ],
 "metadata": {
  "kernelspec": {
   "display_name": "Python 3",
   "language": "python",
   "name": "python3"
  },
  "language_info": {
   "codemirror_mode": {
    "name": "ipython",
    "version": 3
   },
   "file_extension": ".py",
   "mimetype": "text/x-python",
   "name": "python",
   "nbconvert_exporter": "python",
   "pygments_lexer": "ipython3",
   "version": "3.6.3"
  }
 },
 "nbformat": 4,
 "nbformat_minor": 2
}
