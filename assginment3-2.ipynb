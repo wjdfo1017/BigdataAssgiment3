{
 "cells": [
  {
   "cell_type": "code",
   "execution_count": 3,
   "metadata": {},
   "outputs": [
    {
     "name": "stdout",
     "output_type": "stream",
     "text": [
      "('Spain', 'Spain LIGA BBVA', 8412)\n",
      "('England', 'England Premier League', 8240)\n",
      "('Italy', 'Italy Serie A', 7895)\n",
      "('Netherlands', 'Netherlands Eredivisie', 7542)\n",
      "('France', 'France Ligue 1', 7427)\n",
      "('Germany', 'Germany 1. Bundesliga', 7103)\n",
      "('Portugal', 'Portugal Liga ZON Sagres', 5201)\n",
      "('Belgium', 'Belgium Jupiler League', 4841)\n",
      "('Scotland', 'Scotland Premier League', 4804)\n",
      "('Poland', 'Poland Ekstraklasa', 4656)\n",
      "('Switzerland', 'Switzerland Super League', 4166)\n"
     ]
    }
   ],
   "source": [
    "import os\n",
    "import sqlite3\n",
    "con = sqlite3.connect('database.sqlite')\n",
    "cursorObj = con.cursor()\n",
    "cursorObj.execute(\"select Country.name as Country, League.name as League, SUM(home_team_goal+away_team_goal) as total_goal from League, Country , Match where League.id=Match.league_id and Country.id=Match.country_id group by Country.id order by total_goal desc;\")\n",
    "rows = cursorObj.fetchall()\n",
    "\n",
    "for row in rows:\n",
    "  print(row)"
   ]
  },
  {
   "cell_type": "code",
   "execution_count": null,
   "metadata": {},
   "outputs": [],
   "source": []
  }
 ],
 "metadata": {
  "kernelspec": {
   "display_name": "Python 3",
   "language": "python",
   "name": "python3"
  },
  "language_info": {
   "codemirror_mode": {
    "name": "ipython",
    "version": 3
   },
   "file_extension": ".py",
   "mimetype": "text/x-python",
   "name": "python",
   "nbconvert_exporter": "python",
   "pygments_lexer": "ipython3",
   "version": "3.6.3"
  }
 },
 "nbformat": 4,
 "nbformat_minor": 2
}
