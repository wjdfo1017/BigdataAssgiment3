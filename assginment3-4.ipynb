{
 "cells": [
  {
   "cell_type": "code",
   "execution_count": 10,
   "metadata": {},
   "outputs": [
    {
     "name": "stdout",
     "output_type": "stream",
     "text": [
      "('Lazio', None, 62.5)\n",
      "('Udinese', None, 59.0)\n",
      "('SL Benfica', None, 59.0)\n",
      "('FC Porto', None, 59.0)\n",
      "('Napoli', None, 58.5)\n"
     ]
    }
   ],
   "source": [
    "import os\n",
    "import sqlite3\n",
    "con = sqlite3.connect('database.sqlite')\n",
    "cursorObj = con.cursor()\n",
    "cursorObj.execute(\"select team_long_name as Team_Long_Name, null AS NumberofPlayer,avg((buildUpPlaySpeed+buildUpPlayDribbling+buildUpPlayPassing+chanceCreationPassing+chanceCreationCrossing+chanceCreationShooting+defencePressure+defenceAggression+defenceTeamWidth)/9) as Average_of_Attributes from Team_Attributes,Team where Team.team_api_id = Team_Attributes.team_api_id group by Team_Attributes.team_api_id order by Average_of_Attributes desc limit 5;\")\n",
    "rows = cursorObj.fetchall()\n",
    "\n",
    "for row in rows:\n",
    "  print(row)"
   ]
  },
  {
   "cell_type": "code",
   "execution_count": null,
   "metadata": {},
   "outputs": [],
   "source": []
  }
 ],
 "metadata": {
  "kernelspec": {
   "display_name": "Python 3",
   "language": "python",
   "name": "python3"
  },
  "language_info": {
   "codemirror_mode": {
    "name": "ipython",
    "version": 3
   },
   "file_extension": ".py",
   "mimetype": "text/x-python",
   "name": "python",
   "nbconvert_exporter": "python",
   "pygments_lexer": "ipython3",
   "version": "3.6.3"
  }
 },
 "nbformat": 4,
 "nbformat_minor": 2
}
